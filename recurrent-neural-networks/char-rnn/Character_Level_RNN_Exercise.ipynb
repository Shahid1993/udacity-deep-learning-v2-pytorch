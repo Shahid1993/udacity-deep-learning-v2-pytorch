{
 "cells": [
  {
   "cell_type": "markdown",
   "metadata": {},
   "source": [
    "# Character-Level LSTM in PyTorch\n",
    "\n",
    "In this notebook, I'll construct a character-level LSTM with PyTorch. The network will train character by character on some text, then generate new text character by character. As an example, I will train on Anna Karenina. **This model will be able to generate new text based on the text from the book!**\n",
    "\n",
    "This network is based off of Andrej Karpathy's [post on RNNs](http://karpathy.github.io/2015/05/21/rnn-effectiveness/) and [implementation in Torch](https://github.com/karpathy/char-rnn). Below is the general architecture of the character-wise RNN.\n",
    "\n",
    "<img src=\"assets/charseq.jpeg\" width=\"500\">"
   ]
  },
  {
   "cell_type": "markdown",
   "metadata": {},
   "source": [
    "First let's load in our required resources for data loading and model creation."
   ]
  },
  {
   "cell_type": "code",
   "execution_count": 1,
   "metadata": {
    "collapsed": true
   },
   "outputs": [],
   "source": [
    "import numpy as np\n",
    "import torch\n",
    "from torch import nn\n",
    "import torch.nn.functional as F"
   ]
  },
  {
   "cell_type": "markdown",
   "metadata": {},
   "source": [
    "## Load in Data\n",
    "\n",
    "Then, we'll load the Anna Karenina text file and convert it into integers for our network to use. "
   ]
  },
  {
   "cell_type": "code",
   "execution_count": 2,
   "metadata": {
    "collapsed": true
   },
   "outputs": [],
   "source": [
    "# open text file and read in data as `text`\n",
    "with open('data/anna.txt', 'r') as f:\n",
    "    text = f.read()"
   ]
  },
  {
   "cell_type": "markdown",
   "metadata": {},
   "source": [
    "Let's check out the first 100 characters, make sure everything is peachy. According to the [American Book Review](http://americanbookreview.org/100bestlines.asp), this is the 6th best first line of a book ever."
   ]
  },
  {
   "cell_type": "code",
   "execution_count": 3,
   "metadata": {
    "collapsed": true
   },
   "outputs": [
    {
     "data": {
      "text/plain": [
       "'Chapter 1\\n\\n\\nHappy families are all alike; every unhappy family is unhappy in its own\\nway.\\n\\nEverythin'"
      ]
     },
     "execution_count": 3,
     "metadata": {},
     "output_type": "execute_result"
    }
   ],
   "source": [
    "text[:100]"
   ]
  },
  {
   "cell_type": "markdown",
   "metadata": {},
   "source": [
    "### Tokenization\n",
    "\n",
    "In the cells, below, I'm creating a couple **dictionaries** to convert the characters to and from integers. Encoding the characters as integers makes it easier to use as input in the network."
   ]
  },
  {
   "cell_type": "code",
   "execution_count": 4,
   "metadata": {
    "collapsed": true
   },
   "outputs": [],
   "source": [
    "# encode the text and map each character to an integer and vice versa\n",
    "\n",
    "# we create two dictionaries:\n",
    "# 1. int2char, which maps integers to characters\n",
    "# 2. char2int, which maps characters to unique integers\n",
    "chars = tuple(set(text))\n",
    "int2char = dict(enumerate(chars))\n",
    "char2int = {ch: ii for ii, ch in int2char.items()}\n",
    "\n",
    "# encode the text\n",
    "encoded = np.array([char2int[ch] for ch in text])"
   ]
  },
  {
   "cell_type": "markdown",
   "metadata": {},
   "source": [
    "And we can see those same characters from above, encoded as integers."
   ]
  },
  {
   "cell_type": "code",
   "execution_count": 5,
   "metadata": {
    "collapsed": true
   },
   "outputs": [
    {
     "data": {
      "text/plain": [
       "array([53, 82, 75, 40, 10,  6, 16, 36, 73, 17, 17, 17, 81, 75, 40, 40, 51,\n",
       "       36, 24, 75, 43,  7, 25,  7,  6, 19, 36, 75, 16,  6, 36, 75, 25, 25,\n",
       "       36, 75, 25,  7, 74,  6, 33, 36,  6, 56,  6, 16, 51, 36, 20, 31, 82,\n",
       "       75, 40, 40, 51, 36, 24, 75, 43,  7, 25, 51, 36,  7, 19, 36, 20, 31,\n",
       "       82, 75, 40, 40, 51, 36,  7, 31, 36,  7, 10, 19, 36, 57, 54, 31, 17,\n",
       "       54, 75, 51, 63, 17, 17, 55, 56,  6, 16, 51, 10, 82,  7, 31])"
      ]
     },
     "execution_count": 5,
     "metadata": {},
     "output_type": "execute_result"
    }
   ],
   "source": [
    "encoded[:100]"
   ]
  },
  {
   "cell_type": "markdown",
   "metadata": {},
   "source": [
    "## Pre-processing the data\n",
    "\n",
    "As you can see in our char-RNN image above, our LSTM expects an input that is **one-hot encoded** meaning that each character is converted into an integer (via our created dictionary) and *then* converted into a column vector where only it's corresponding integer index will have the value of 1 and the rest of the vector will be filled with 0's. Since we're one-hot encoding the data, let's make a function to do that!\n"
   ]
  },
  {
   "cell_type": "code",
   "execution_count": 17,
   "metadata": {
    "collapsed": true
   },
   "outputs": [],
   "source": [
    "def one_hot_encode(arr, n_labels):\n",
    "    \n",
    "    # Initialize the the encoded array\n",
    "    one_hot = np.zeros((arr.size, n_labels), dtype=np.float32)\n",
    "    \n",
    "    # Fill the appropriate elements with ones\n",
    "    one_hot[np.arange(one_hot.shape[0]), arr.flatten()] = 1.\n",
    "    \n",
    "    # Finally reshape it to get back to the original array\n",
    "    one_hot = one_hot.reshape((*arr.shape, n_labels))\n",
    "    \n",
    "    return one_hot"
   ]
  },
  {
   "cell_type": "code",
   "execution_count": 18,
   "metadata": {
    "collapsed": true
   },
   "outputs": [
    {
     "name": "stdout",
     "output_type": "stream",
     "text": [
      "[[[0. 0. 0. 1. 0. 0. 0. 0.]\n",
      "  [0. 0. 0. 0. 0. 1. 0. 0.]\n",
      "  [0. 1. 0. 0. 0. 0. 0. 0.]]]\n"
     ]
    }
   ],
   "source": [
    "# check that the function works as expected\n",
    "test_seq = np.array([[3, 5, 1]])\n",
    "one_hot = one_hot_encode(test_seq, 8)\n",
    "\n",
    "print(one_hot)"
   ]
  },
  {
   "cell_type": "markdown",
   "metadata": {},
   "source": [
    "## Making training mini-batches\n",
    "\n",
    "\n",
    "To train on this data, we also want to create mini-batches for training. Remember that we want our batches to be multiple sequences of some desired number of sequence steps. Considering a simple example, our batches would look like this:\n",
    "\n",
    "<img src=\"assets/sequence_batching@1x.png\" width=500px>\n",
    "\n",
    "\n",
    "<br>\n",
    "\n",
    "In this example, we'll take the encoded characters (passed in as the `arr` parameter) and split them into multiple sequences, given by `batch_size`. Each of our sequences will be `seq_length` long.\n",
    "\n",
    "### Creating Batches\n",
    "\n",
    "**1. The first thing we need to do is discard some of the text so we only have completely full mini-batches. **\n",
    "\n",
    "Each batch contains $N \\times M$ characters, where $N$ is the batch size (the number of sequences in a batch) and $M$ is the seq_length or number of time steps in a sequence. Then, to get the total number of batches, $K$, that we can make from the array `arr`, you divide the length of `arr` by the number of characters per batch. Once you know the number of batches, you can get the total number of characters to keep from `arr`, $N * M * K$.\n",
    "\n",
    "**2. After that, we need to split `arr` into $N$ batches. ** \n",
    "\n",
    "You can do this using `arr.reshape(size)` where `size` is a tuple containing the dimensions sizes of the reshaped array. We know we want $N$ sequences in a batch, so let's make that the size of the first dimension. For the second dimension, you can use `-1` as a placeholder in the size, it'll fill up the array with the appropriate data for you. After this, you should have an array that is $N \\times (M * K)$.\n",
    "\n",
    "**3. Now that we have this array, we can iterate through it to get our mini-batches. **\n",
    "\n",
    "The idea is each batch is a $N \\times M$ window on the $N \\times (M * K)$ array. For each subsequent batch, the window moves over by `seq_length`. We also want to create both the input and target arrays. Remember that the targets are just the inputs shifted over by one character. The way I like to do this window is use `range` to take steps of size `n_steps` from $0$ to `arr.shape[1]`, the total number of tokens in each sequence. That way, the integers you get from `range` always point to the start of a batch, and each window is `seq_length` wide.\n",
    "\n",
    "> **TODO:** Write the code for creating batches in the function below. The exercises in this notebook _will not be easy_. I've provided a notebook with solutions alongside this notebook. If you get stuck, checkout the solutions. The most important thing is that you don't copy and paste the code into here, **type out the solution code yourself.**"
   ]
  },
  {
   "cell_type": "code",
   "execution_count": 19,
   "metadata": {
    "collapsed": true
   },
   "outputs": [],
   "source": [
    "def get_batches(arr, batch_size, seq_length):\n",
    "    '''Create a generator that returns batches of size\n",
    "       batch_size x seq_length from arr.\n",
    "       \n",
    "       Arguments\n",
    "       ---------\n",
    "       arr: Array you want to make batches from\n",
    "       batch_size: Batch size, the number of sequences per batch\n",
    "       seq_length: Number of encoded chars in a sequence\n",
    "    '''\n",
    "    \n",
    "    ## TODO: Get the number of batches we can make\n",
    "    batch_size_total = batch_size * seq_length\n",
    "    n_batches = len(arr) // batch_size_total\n",
    "    \n",
    "    ## TODO: Keep only enough characters to make full batches\n",
    "    arr = arr[: n_batches * batch_size_total]\n",
    "    \n",
    "    ## TODO: Reshape into batch_size rows\n",
    "    arr = arr.reshape((batch_size, -1))\n",
    "    \n",
    "    ## TODO: Iterate over the batches using a window of size seq_length\n",
    "    for n in range(0, arr.shape[1], seq_length):\n",
    "        # The features\n",
    "        x = arr[:, n:n+seq_length]\n",
    "        # The targets, shifted by one\n",
    "        y = np.zeros_like(x)\n",
    "        try:\n",
    "            y[:, :-1], y[:, -1] = x[:, 1:], arr[:, n+seq_length]\n",
    "        except IndexError:\n",
    "            y[:, :-1], y[:, -1] = x[:, 1:], arr[:, 0]\n",
    "        yield x, y"
   ]
  },
  {
   "cell_type": "markdown",
   "metadata": {},
   "source": [
    "### Test Your Implementation\n",
    "\n",
    "Now I'll make some data sets and we can check out what's going on as we batch data. Here, as an example, I'm going to use a batch size of 8 and 50 sequence steps."
   ]
  },
  {
   "cell_type": "code",
   "execution_count": 20,
   "metadata": {
    "collapsed": true
   },
   "outputs": [],
   "source": [
    "batches = get_batches(encoded, 8, 50)\n",
    "x, y = next(batches)"
   ]
  },
  {
   "cell_type": "code",
   "execution_count": 21,
   "metadata": {
    "collapsed": true
   },
   "outputs": [
    {
     "name": "stdout",
     "output_type": "stream",
     "text": [
      "x\n",
      " [[53 82 75 40 10  6 16 36 73 17]\n",
      " [19 57 31 36 10 82 75 10 36 75]\n",
      " [ 6 31 76 36 57 16 36 75 36 24]\n",
      " [19 36 10 82  6 36 38 82  7  6]\n",
      " [36 19 75 54 36 82  6 16 36 10]\n",
      " [38 20 19 19  7 57 31 36 75 31]\n",
      " [36  9 31 31 75 36 82 75 76 36]\n",
      " [79 72 25 57 31 19 74 51 63 36]]\n",
      "\n",
      "y\n",
      " [[82 75 40 10  6 16 36 73 17 17]\n",
      " [57 31 36 10 82 75 10 36 75 10]\n",
      " [31 76 36 57 16 36 75 36 24 57]\n",
      " [36 10 82  6 36 38 82  7  6 24]\n",
      " [19 75 54 36 82  6 16 36 10  6]\n",
      " [20 19 19  7 57 31 36 75 31 76]\n",
      " [ 9 31 31 75 36 82 75 76 36 19]\n",
      " [72 25 57 31 19 74 51 63 36 68]]\n"
     ]
    }
   ],
   "source": [
    "# printing out the first 10 items in a sequence\n",
    "print('x\\n', x[:10, :10])\n",
    "print('\\ny\\n', y[:10, :10])"
   ]
  },
  {
   "cell_type": "markdown",
   "metadata": {},
   "source": [
    "If you implemented `get_batches` correctly, the above output should look something like \n",
    "```\n",
    "x\n",
    " [[25  8 60 11 45 27 28 73  1  2]\n",
    " [17  7 20 73 45  8 60 45 73 60]\n",
    " [27 20 80 73  7 28 73 60 73 65]\n",
    " [17 73 45  8 27 73 66  8 46 27]\n",
    " [73 17 60 12 73  8 27 28 73 45]\n",
    " [66 64 17 17 46  7 20 73 60 20]\n",
    " [73 76 20 20 60 73  8 60 80 73]\n",
    " [47 35 43  7 20 17 24 50 37 73]]\n",
    "\n",
    "y\n",
    " [[ 8 60 11 45 27 28 73  1  2  2]\n",
    " [ 7 20 73 45  8 60 45 73 60 45]\n",
    " [20 80 73  7 28 73 60 73 65  7]\n",
    " [73 45  8 27 73 66  8 46 27 65]\n",
    " [17 60 12 73  8 27 28 73 45 27]\n",
    " [64 17 17 46  7 20 73 60 20 80]\n",
    " [76 20 20 60 73  8 60 80 73 17]\n",
    " [35 43  7 20 17 24 50 37 73 36]]\n",
    " ```\n",
    " although the exact numbers may be different. Check to make sure the data is shifted over one step for `y`."
   ]
  },
  {
   "cell_type": "markdown",
   "metadata": {},
   "source": [
    "---\n",
    "## Defining the network with PyTorch\n",
    "\n",
    "Below is where you'll define the network.\n",
    "\n",
    "<img src=\"assets/charRNN.png\" width=500px>\n",
    "\n",
    "Next, you'll use PyTorch to define the architecture of the network. We start by defining the layers and operations we want. Then, define a method for the forward pass. You've also been given a method for predicting characters."
   ]
  },
  {
   "cell_type": "markdown",
   "metadata": {},
   "source": [
    "### Model Structure\n",
    "\n",
    "In `__init__` the suggested structure is as follows:\n",
    "* Create and store the necessary dictionaries (this has been done for you)\n",
    "* Define an LSTM layer that takes as params: an input size (the number of characters), a hidden layer size `n_hidden`, a number of layers `n_layers`, a dropout probability `drop_prob`, and a batch_first boolean (True, since we are batching)\n",
    "* Define a dropout layer with `drop_prob`\n",
    "* Define a fully-connected layer with params: input size `n_hidden` and output size (the number of characters)\n",
    "* Finally, initialize the weights (again, this has been given)\n",
    "\n",
    "Note that some parameters have been named and given in the `__init__` function, and we use them and store them by doing something like `self.drop_prob = drop_prob`."
   ]
  },
  {
   "cell_type": "markdown",
   "metadata": {},
   "source": [
    "---\n",
    "### LSTM Inputs/Outputs\n",
    "\n",
    "You can create a basic [LSTM layer](https://pytorch.org/docs/stable/nn.html#lstm) as follows\n",
    "\n",
    "```python\n",
    "self.lstm = nn.LSTM(input_size, n_hidden, n_layers, \n",
    "                            dropout=drop_prob, batch_first=True)\n",
    "```\n",
    "\n",
    "where `input_size` is the number of characters this cell expects to see as sequential input, and `n_hidden` is the number of units in the hidden layers in the cell. And we can add dropout by adding a dropout parameter with a specified probability; this will automatically add dropout to the inputs or outputs. Finally, in the `forward` function, we can stack up the LSTM cells into layers using `.view`. With this, you pass in a list of cells and it will send the output of one cell into the next cell.\n",
    "\n",
    "We also need to create an initial hidden state of all zeros. This is done like so\n",
    "\n",
    "```python\n",
    "self.init_hidden()\n",
    "```"
   ]
  },
  {
   "cell_type": "code",
   "execution_count": 22,
   "metadata": {
    "collapsed": true
   },
   "outputs": [
    {
     "name": "stdout",
     "output_type": "stream",
     "text": [
      "No GPU available, training on CPU; consider making n_epochs very small.\n"
     ]
    }
   ],
   "source": [
    "# check if GPU is available\n",
    "train_on_gpu = torch.cuda.is_available()\n",
    "if(train_on_gpu):\n",
    "    print('Training on GPU!')\n",
    "else: \n",
    "    print('No GPU available, training on CPU; consider making n_epochs very small.')"
   ]
  },
  {
   "cell_type": "code",
   "execution_count": 23,
   "metadata": {
    "collapsed": true
   },
   "outputs": [],
   "source": [
    "class CharRNN(nn.Module):\n",
    "    \n",
    "    def __init__(self, tokens, n_hidden=256, n_layers=2,\n",
    "                               drop_prob=0.5, lr=0.001):\n",
    "        super().__init__()\n",
    "        self.drop_prob = drop_prob\n",
    "        self.n_layers = n_layers\n",
    "        self.n_hidden = n_hidden\n",
    "        self.lr = lr\n",
    "        \n",
    "        # creating character dictionaries\n",
    "        self.chars = tokens\n",
    "        self.int2char = dict(enumerate(self.chars))\n",
    "        self.char2int = {ch: ii for ii, ch in self.int2char.items()}\n",
    "        \n",
    "        ## TODO: define the layers of the model        \n",
    "        ## TODO: define the LSTM\n",
    "        self.lstm = nn.LSTM(len(self.chars), n_hidden, n_layers, \n",
    "                            dropout=drop_prob, batch_first=True)\n",
    "        \n",
    "        ## TODO: define a dropout layer\n",
    "        self.dropout = nn.Dropout(drop_prob)\n",
    "        \n",
    "        ## TODO: define the final, fully-connected output layer\n",
    "        self.fc = nn.Linear(n_hidden, len(self.chars))\n",
    "      \n",
    "    \n",
    "    def forward(self, x, hidden):\n",
    "        ''' Forward pass through the network. \n",
    "            These inputs are x, and the hidden/cell state `hidden`. '''                \n",
    "        ## TODO: Get the outputs and the new hidden state from the lstm\n",
    "        r_output, hidden = self.lstm(x, hidden)\n",
    "        \n",
    "        ## TODO: pass through a dropout layer\n",
    "        out = self.dropout(r_output)\n",
    "        \n",
    "        # Stack up LSTM outputs using view\n",
    "        # you may need to use contiguous to reshape the output\n",
    "        out = out.contiguous().view(-1, self.n_hidden)\n",
    "        \n",
    "        ## TODO: put x through the fully-connected layer\n",
    "        out = self.fc(out)\n",
    "        \n",
    "        # return the final output and the hidden state\n",
    "        return out, hidden\n",
    "    \n",
    "    \n",
    "    def init_hidden(self, batch_size):\n",
    "        ''' Initializes hidden state '''\n",
    "        # Create two new tensors with sizes n_layers x batch_size x n_hidden,\n",
    "        # initialized to zero, for hidden state and cell state of LSTM\n",
    "        weight = next(self.parameters()).data\n",
    "        \n",
    "        if (train_on_gpu):\n",
    "            hidden = (weight.new(self.n_layers, batch_size, self.n_hidden).zero_().cuda(),\n",
    "                  weight.new(self.n_layers, batch_size, self.n_hidden).zero_().cuda())\n",
    "        else:\n",
    "            hidden = (weight.new(self.n_layers, batch_size, self.n_hidden).zero_(),\n",
    "                      weight.new(self.n_layers, batch_size, self.n_hidden).zero_())\n",
    "        \n",
    "        return hidden\n",
    "        "
   ]
  },
  {
   "cell_type": "markdown",
   "metadata": {},
   "source": [
    "## Time to train\n",
    "\n",
    "The train function gives us the ability to set the number of epochs, the learning rate, and other parameters.\n",
    "\n",
    "Below we're using an Adam optimizer and cross entropy loss since we are looking at character class scores as output. We calculate the loss and perform backpropagation, as usual!\n",
    "\n",
    "A couple of details about training: \n",
    ">* Within the batch loop, we detach the hidden state from its history; this time setting it equal to a new *tuple* variable because an LSTM has a hidden state that is a tuple of the hidden and cell states.\n",
    "* We use [`clip_grad_norm_`](https://pytorch.org/docs/stable/_modules/torch/nn/utils/clip_grad.html) to help prevent exploding gradients."
   ]
  },
  {
   "cell_type": "code",
   "execution_count": 24,
   "metadata": {
    "collapsed": true
   },
   "outputs": [],
   "source": [
    "def train(net, data, epochs=10, batch_size=10, seq_length=50, lr=0.001, clip=5, val_frac=0.1, print_every=10):\n",
    "    ''' Training a network \n",
    "    \n",
    "        Arguments\n",
    "        ---------\n",
    "        \n",
    "        net: CharRNN network\n",
    "        data: text data to train the network\n",
    "        epochs: Number of epochs to train\n",
    "        batch_size: Number of mini-sequences per mini-batch, aka batch size\n",
    "        seq_length: Number of character steps per mini-batch\n",
    "        lr: learning rate\n",
    "        clip: gradient clipping\n",
    "        val_frac: Fraction of data to hold out for validation\n",
    "        print_every: Number of steps for printing training and validation loss\n",
    "    \n",
    "    '''\n",
    "    net.train()\n",
    "    \n",
    "    opt = torch.optim.Adam(net.parameters(), lr=lr)\n",
    "    criterion = nn.CrossEntropyLoss()\n",
    "    \n",
    "    # create training and validation data\n",
    "    val_idx = int(len(data)*(1-val_frac))\n",
    "    data, val_data = data[:val_idx], data[val_idx:]\n",
    "    \n",
    "    if(train_on_gpu):\n",
    "        net.cuda()\n",
    "    \n",
    "    counter = 0\n",
    "    n_chars = len(net.chars)\n",
    "    for e in range(epochs):\n",
    "        # initialize hidden state\n",
    "        h = net.init_hidden(batch_size)\n",
    "        \n",
    "        for x, y in get_batches(data, batch_size, seq_length):\n",
    "            counter += 1\n",
    "            \n",
    "            # One-hot encode our data and make them Torch tensors\n",
    "            x = one_hot_encode(x, n_chars)\n",
    "            inputs, targets = torch.from_numpy(x), torch.from_numpy(y)\n",
    "            \n",
    "            if(train_on_gpu):\n",
    "                inputs, targets = inputs.cuda(), targets.cuda()\n",
    "\n",
    "            # Creating new variables for the hidden state, otherwise\n",
    "            # we'd backprop through the entire training history\n",
    "            h = tuple([each.data for each in h])\n",
    "\n",
    "            # zero accumulated gradients\n",
    "            net.zero_grad()\n",
    "            \n",
    "            # get the output from the model\n",
    "            output, h = net(inputs, h)\n",
    "            \n",
    "            # calculate the loss and perform backprop\n",
    "            loss = criterion(output, targets.view(batch_size*seq_length).long())\n",
    "            loss.backward()\n",
    "            # `clip_grad_norm` helps prevent the exploding gradient problem in RNNs / LSTMs.\n",
    "            nn.utils.clip_grad_norm_(net.parameters(), clip)\n",
    "            opt.step()\n",
    "            \n",
    "            # loss stats\n",
    "            if counter % print_every == 0:\n",
    "                # Get validation loss\n",
    "                val_h = net.init_hidden(batch_size)\n",
    "                val_losses = []\n",
    "                net.eval()\n",
    "                for x, y in get_batches(val_data, batch_size, seq_length):\n",
    "                    # One-hot encode our data and make them Torch tensors\n",
    "                    x = one_hot_encode(x, n_chars)\n",
    "                    x, y = torch.from_numpy(x), torch.from_numpy(y)\n",
    "                    \n",
    "                    # Creating new variables for the hidden state, otherwise\n",
    "                    # we'd backprop through the entire training history\n",
    "                    val_h = tuple([each.data for each in val_h])\n",
    "                    \n",
    "                    inputs, targets = x, y\n",
    "                    if(train_on_gpu):\n",
    "                        inputs, targets = inputs.cuda(), targets.cuda()\n",
    "\n",
    "                    output, val_h = net(inputs, val_h)\n",
    "                    val_loss = criterion(output, targets.view(batch_size*seq_length).long())\n",
    "                \n",
    "                    val_losses.append(val_loss.item())\n",
    "                \n",
    "                net.train() # reset to train mode after iterationg through validation data\n",
    "                \n",
    "                print(\"Epoch: {}/{}...\".format(e+1, epochs),\n",
    "                      \"Step: {}...\".format(counter),\n",
    "                      \"Loss: {:.4f}...\".format(loss.item()),\n",
    "                      \"Val Loss: {:.4f}\".format(np.mean(val_losses)))"
   ]
  },
  {
   "cell_type": "markdown",
   "metadata": {},
   "source": [
    "## Instantiating the model\n",
    "\n",
    "Now we can actually train the network. First we'll create the network itself, with some given hyperparameters. Then, define the mini-batches sizes, and start training!"
   ]
  },
  {
   "cell_type": "code",
   "execution_count": 25,
   "metadata": {
    "collapsed": true
   },
   "outputs": [
    {
     "name": "stdout",
     "output_type": "stream",
     "text": [
      "CharRNN(\n",
      "  (lstm): LSTM(83, 512, num_layers=2, batch_first=True, dropout=0.5)\n",
      "  (dropout): Dropout(p=0.5, inplace=False)\n",
      "  (fc): Linear(in_features=512, out_features=83, bias=True)\n",
      ")\n"
     ]
    }
   ],
   "source": [
    "## TODO: set your model hyperparameters\n",
    "# define and print the net\n",
    "n_hidden=512\n",
    "n_layers=2\n",
    "\n",
    "net = CharRNN(chars, n_hidden, n_layers)\n",
    "print(net)"
   ]
  },
  {
   "cell_type": "markdown",
   "metadata": {},
   "source": [
    "### Set your training hyperparameters!"
   ]
  },
  {
   "cell_type": "code",
   "execution_count": 26,
   "metadata": {
    "collapsed": true,
    "scrolled": true
   },
   "outputs": [
    {
     "name": "stdout",
     "output_type": "stream",
     "text": [
      "Epoch: 1/20... Step: 10... Loss: 3.2791... Val Loss: 3.2250\n",
      "Epoch: 1/20... Step: 20... Loss: 3.1602... Val Loss: 3.1389\n",
      "Epoch: 1/20... Step: 30... Loss: 3.1514... Val Loss: 3.1252\n",
      "Epoch: 1/20... Step: 40... Loss: 3.1150... Val Loss: 3.1207\n",
      "Epoch: 1/20... Step: 50... Loss: 3.1486... Val Loss: 3.1181\n",
      "Epoch: 1/20... Step: 60... Loss: 3.1197... Val Loss: 3.1158\n",
      "Epoch: 1/20... Step: 70... Loss: 3.1100... Val Loss: 3.1137\n",
      "Epoch: 1/20... Step: 80... Loss: 3.1206... Val Loss: 3.1084\n",
      "Epoch: 1/20... Step: 90... Loss: 3.1147... Val Loss: 3.0946\n",
      "Epoch: 1/20... Step: 100... Loss: 3.0735... Val Loss: 3.0614\n",
      "Epoch: 1/20... Step: 110... Loss: 3.0171... Val Loss: 2.9850\n",
      "Epoch: 1/20... Step: 120... Loss: 2.8935... Val Loss: 2.8583\n",
      "Epoch: 1/20... Step: 130... Loss: 2.7558... Val Loss: 2.7149\n",
      "Epoch: 2/20... Step: 140... Loss: 2.6659... Val Loss: 2.6154\n",
      "Epoch: 2/20... Step: 150... Loss: 2.5981... Val Loss: 2.5404\n",
      "Epoch: 2/20... Step: 160... Loss: 2.5285... Val Loss: 2.4983\n",
      "Epoch: 2/20... Step: 170... Loss: 2.4785... Val Loss: 2.4536\n",
      "Epoch: 2/20... Step: 180... Loss: 2.4419... Val Loss: 2.4153\n",
      "Epoch: 2/20... Step: 190... Loss: 2.3901... Val Loss: 2.3895\n",
      "Epoch: 2/20... Step: 200... Loss: 2.3896... Val Loss: 2.3559\n",
      "Epoch: 2/20... Step: 210... Loss: 2.3536... Val Loss: 2.3285\n",
      "Epoch: 2/20... Step: 220... Loss: 2.3267... Val Loss: 2.3014\n",
      "Epoch: 2/20... Step: 230... Loss: 2.3113... Val Loss: 2.2721\n",
      "Epoch: 2/20... Step: 240... Loss: 2.2811... Val Loss: 2.2488\n",
      "Epoch: 2/20... Step: 250... Loss: 2.2204... Val Loss: 2.2189\n",
      "Epoch: 2/20... Step: 260... Loss: 2.1921... Val Loss: 2.1970\n",
      "Epoch: 2/20... Step: 270... Loss: 2.2017... Val Loss: 2.1734\n",
      "Epoch: 3/20... Step: 280... Loss: 2.1945... Val Loss: 2.1483\n",
      "Epoch: 3/20... Step: 290... Loss: 2.1635... Val Loss: 2.1208\n",
      "Epoch: 3/20... Step: 300... Loss: 2.1307... Val Loss: 2.1000\n",
      "Epoch: 3/20... Step: 310... Loss: 2.1048... Val Loss: 2.0824\n",
      "Epoch: 3/20... Step: 320... Loss: 2.0686... Val Loss: 2.0617\n",
      "Epoch: 3/20... Step: 330... Loss: 2.0529... Val Loss: 2.0491\n",
      "Epoch: 3/20... Step: 340... Loss: 2.0686... Val Loss: 2.0275\n",
      "Epoch: 3/20... Step: 350... Loss: 2.0433... Val Loss: 2.0102\n",
      "Epoch: 3/20... Step: 360... Loss: 1.9802... Val Loss: 1.9888\n",
      "Epoch: 3/20... Step: 370... Loss: 2.0126... Val Loss: 1.9755\n",
      "Epoch: 3/20... Step: 380... Loss: 1.9841... Val Loss: 1.9550\n",
      "Epoch: 3/20... Step: 390... Loss: 1.9581... Val Loss: 1.9410\n",
      "Epoch: 3/20... Step: 400... Loss: 1.9259... Val Loss: 1.9238\n",
      "Epoch: 3/20... Step: 410... Loss: 1.9463... Val Loss: 1.9083\n",
      "Epoch: 4/20... Step: 420... Loss: 1.9292... Val Loss: 1.8997\n",
      "Epoch: 4/20... Step: 430... Loss: 1.9201... Val Loss: 1.8840\n",
      "Epoch: 4/20... Step: 440... Loss: 1.9025... Val Loss: 1.8763\n",
      "Epoch: 4/20... Step: 450... Loss: 1.8358... Val Loss: 1.8575\n",
      "Epoch: 4/20... Step: 460... Loss: 1.8281... Val Loss: 1.8486\n",
      "Epoch: 4/20... Step: 470... Loss: 1.8647... Val Loss: 1.8357\n",
      "Epoch: 4/20... Step: 480... Loss: 1.8428... Val Loss: 1.8262\n",
      "Epoch: 4/20... Step: 490... Loss: 1.8465... Val Loss: 1.8109\n",
      "Epoch: 4/20... Step: 500... Loss: 1.8510... Val Loss: 1.8026\n",
      "Epoch: 4/20... Step: 510... Loss: 1.8175... Val Loss: 1.7923\n",
      "Epoch: 4/20... Step: 520... Loss: 1.8247... Val Loss: 1.7782\n",
      "Epoch: 4/20... Step: 530... Loss: 1.7941... Val Loss: 1.7717\n",
      "Epoch: 4/20... Step: 540... Loss: 1.7586... Val Loss: 1.7632\n",
      "Epoch: 4/20... Step: 550... Loss: 1.7962... Val Loss: 1.7518\n",
      "Epoch: 5/20... Step: 560... Loss: 1.7676... Val Loss: 1.7419\n",
      "Epoch: 5/20... Step: 570... Loss: 1.7543... Val Loss: 1.7284\n",
      "Epoch: 5/20... Step: 580... Loss: 1.7322... Val Loss: 1.7216\n",
      "Epoch: 5/20... Step: 590... Loss: 1.7227... Val Loss: 1.7129\n",
      "Epoch: 5/20... Step: 600... Loss: 1.7143... Val Loss: 1.7048\n",
      "Epoch: 5/20... Step: 610... Loss: 1.7041... Val Loss: 1.7039\n",
      "Epoch: 5/20... Step: 620... Loss: 1.7147... Val Loss: 1.6926\n",
      "Epoch: 5/20... Step: 630... Loss: 1.7309... Val Loss: 1.6856\n",
      "Epoch: 5/20... Step: 640... Loss: 1.6850... Val Loss: 1.6761\n",
      "Epoch: 5/20... Step: 650... Loss: 1.6766... Val Loss: 1.6683\n",
      "Epoch: 5/20... Step: 660... Loss: 1.6548... Val Loss: 1.6608\n",
      "Epoch: 5/20... Step: 670... Loss: 1.6814... Val Loss: 1.6588\n",
      "Epoch: 5/20... Step: 680... Loss: 1.6789... Val Loss: 1.6562\n",
      "Epoch: 5/20... Step: 690... Loss: 1.6594... Val Loss: 1.6458\n",
      "Epoch: 6/20... Step: 700... Loss: 1.6495... Val Loss: 1.6376\n",
      "Epoch: 6/20... Step: 710... Loss: 1.6407... Val Loss: 1.6342\n",
      "Epoch: 6/20... Step: 720... Loss: 1.6301... Val Loss: 1.6278\n",
      "Epoch: 6/20... Step: 730... Loss: 1.6470... Val Loss: 1.6195\n",
      "Epoch: 6/20... Step: 740... Loss: 1.6082... Val Loss: 1.6148\n",
      "Epoch: 6/20... Step: 750... Loss: 1.5921... Val Loss: 1.6096\n",
      "Epoch: 6/20... Step: 760... Loss: 1.6354... Val Loss: 1.6069\n",
      "Epoch: 6/20... Step: 770... Loss: 1.6130... Val Loss: 1.6031\n",
      "Epoch: 6/20... Step: 780... Loss: 1.5914... Val Loss: 1.5924\n",
      "Epoch: 6/20... Step: 790... Loss: 1.5823... Val Loss: 1.5901\n",
      "Epoch: 6/20... Step: 800... Loss: 1.6029... Val Loss: 1.5818\n",
      "Epoch: 6/20... Step: 810... Loss: 1.5871... Val Loss: 1.5782\n",
      "Epoch: 6/20... Step: 820... Loss: 1.5466... Val Loss: 1.5754\n",
      "Epoch: 6/20... Step: 830... Loss: 1.5935... Val Loss: 1.5705\n",
      "Epoch: 7/20... Step: 840... Loss: 1.5493... Val Loss: 1.5668\n",
      "Epoch: 7/20... Step: 850... Loss: 1.5674... Val Loss: 1.5614\n",
      "Epoch: 7/20... Step: 860... Loss: 1.5508... Val Loss: 1.5554\n",
      "Epoch: 7/20... Step: 870... Loss: 1.5651... Val Loss: 1.5512\n",
      "Epoch: 7/20... Step: 880... Loss: 1.5541... Val Loss: 1.5476\n",
      "Epoch: 7/20... Step: 890... Loss: 1.5523... Val Loss: 1.5439\n",
      "Epoch: 7/20... Step: 900... Loss: 1.5355... Val Loss: 1.5382\n",
      "Epoch: 7/20... Step: 910... Loss: 1.5142... Val Loss: 1.5393\n",
      "Epoch: 7/20... Step: 920... Loss: 1.5413... Val Loss: 1.5349\n",
      "Epoch: 7/20... Step: 930... Loss: 1.5190... Val Loss: 1.5254\n",
      "Epoch: 7/20... Step: 940... Loss: 1.5190... Val Loss: 1.5274\n",
      "Epoch: 7/20... Step: 950... Loss: 1.5385... Val Loss: 1.5173\n",
      "Epoch: 7/20... Step: 960... Loss: 1.5299... Val Loss: 1.5165\n",
      "Epoch: 7/20... Step: 970... Loss: 1.5398... Val Loss: 1.5139\n",
      "Epoch: 8/20... Step: 980... Loss: 1.5138... Val Loss: 1.5099\n",
      "Epoch: 8/20... Step: 990... Loss: 1.5126... Val Loss: 1.5055\n",
      "Epoch: 8/20... Step: 1000... Loss: 1.4996... Val Loss: 1.4993\n",
      "Epoch: 8/20... Step: 1010... Loss: 1.5346... Val Loss: 1.4955\n",
      "Epoch: 8/20... Step: 1020... Loss: 1.5111... Val Loss: 1.4974\n",
      "Epoch: 8/20... Step: 1030... Loss: 1.4840... Val Loss: 1.4952\n",
      "Epoch: 8/20... Step: 1040... Loss: 1.4986... Val Loss: 1.4914\n",
      "Epoch: 8/20... Step: 1050... Loss: 1.4746... Val Loss: 1.4905\n",
      "Epoch: 8/20... Step: 1060... Loss: 1.4749... Val Loss: 1.4887\n",
      "Epoch: 8/20... Step: 1070... Loss: 1.4860... Val Loss: 1.4836\n",
      "Epoch: 8/20... Step: 1080... Loss: 1.4838... Val Loss: 1.4825\n",
      "Epoch: 8/20... Step: 1090... Loss: 1.4678... Val Loss: 1.4751\n",
      "Epoch: 8/20... Step: 1100... Loss: 1.4558... Val Loss: 1.4718\n",
      "Epoch: 8/20... Step: 1110... Loss: 1.4631... Val Loss: 1.4699\n",
      "Epoch: 9/20... Step: 1120... Loss: 1.4772... Val Loss: 1.4667\n",
      "Epoch: 9/20... Step: 1130... Loss: 1.4636... Val Loss: 1.4662\n",
      "Epoch: 9/20... Step: 1140... Loss: 1.4659... Val Loss: 1.4569\n",
      "Epoch: 9/20... Step: 1150... Loss: 1.4899... Val Loss: 1.4598\n",
      "Epoch: 9/20... Step: 1160... Loss: 1.4427... Val Loss: 1.4600\n",
      "Epoch: 9/20... Step: 1170... Loss: 1.4390... Val Loss: 1.4556\n",
      "Epoch: 9/20... Step: 1180... Loss: 1.4396... Val Loss: 1.4548\n",
      "Epoch: 9/20... Step: 1190... Loss: 1.4668... Val Loss: 1.4503\n",
      "Epoch: 9/20... Step: 1200... Loss: 1.4242... Val Loss: 1.4487\n",
      "Epoch: 9/20... Step: 1210... Loss: 1.4422... Val Loss: 1.4445\n",
      "Epoch: 9/20... Step: 1220... Loss: 1.4323... Val Loss: 1.4457\n",
      "Epoch: 9/20... Step: 1230... Loss: 1.4184... Val Loss: 1.4370\n",
      "Epoch: 9/20... Step: 1240... Loss: 1.4132... Val Loss: 1.4353\n",
      "Epoch: 9/20... Step: 1250... Loss: 1.4284... Val Loss: 1.4379\n",
      "Epoch: 10/20... Step: 1260... Loss: 1.4290... Val Loss: 1.4376\n",
      "Epoch: 10/20... Step: 1270... Loss: 1.4230... Val Loss: 1.4313\n",
      "Epoch: 10/20... Step: 1280... Loss: 1.4432... Val Loss: 1.4260\n",
      "Epoch: 10/20... Step: 1290... Loss: 1.4321... Val Loss: 1.4306\n",
      "Epoch: 10/20... Step: 1300... Loss: 1.4125... Val Loss: 1.4279\n",
      "Epoch: 10/20... Step: 1310... Loss: 1.4220... Val Loss: 1.4259\n",
      "Epoch: 10/20... Step: 1320... Loss: 1.3941... Val Loss: 1.4247\n",
      "Epoch: 10/20... Step: 1330... Loss: 1.3911... Val Loss: 1.4236\n",
      "Epoch: 10/20... Step: 1340... Loss: 1.3876... Val Loss: 1.4215\n",
      "Epoch: 10/20... Step: 1350... Loss: 1.3768... Val Loss: 1.4165\n",
      "Epoch: 10/20... Step: 1360... Loss: 1.3892... Val Loss: 1.4201\n",
      "Epoch: 10/20... Step: 1370... Loss: 1.3750... Val Loss: 1.4144\n",
      "Epoch: 10/20... Step: 1380... Loss: 1.4235... Val Loss: 1.4089\n",
      "Epoch: 10/20... Step: 1390... Loss: 1.4276... Val Loss: 1.4105\n",
      "Epoch: 11/20... Step: 1400... Loss: 1.4262... Val Loss: 1.4080\n",
      "Epoch: 11/20... Step: 1410... Loss: 1.4363... Val Loss: 1.4084\n",
      "Epoch: 11/20... Step: 1420... Loss: 1.4133... Val Loss: 1.3993\n",
      "Epoch: 11/20... Step: 1430... Loss: 1.3837... Val Loss: 1.4040\n",
      "Epoch: 11/20... Step: 1440... Loss: 1.4119... Val Loss: 1.4010\n",
      "Epoch: 11/20... Step: 1450... Loss: 1.3384... Val Loss: 1.4049\n",
      "Epoch: 11/20... Step: 1460... Loss: 1.3734... Val Loss: 1.4019\n",
      "Epoch: 11/20... Step: 1470... Loss: 1.3622... Val Loss: 1.3989\n",
      "Epoch: 11/20... Step: 1480... Loss: 1.3803... Val Loss: 1.3959\n",
      "Epoch: 11/20... Step: 1490... Loss: 1.3749... Val Loss: 1.3919\n",
      "Epoch: 11/20... Step: 1500... Loss: 1.3584... Val Loss: 1.3990\n",
      "Epoch: 11/20... Step: 1510... Loss: 1.3423... Val Loss: 1.3957\n",
      "Epoch: 11/20... Step: 1520... Loss: 1.3766... Val Loss: 1.3901\n",
      "Epoch: 12/20... Step: 1530... Loss: 1.4263... Val Loss: 1.3887\n",
      "Epoch: 12/20... Step: 1540... Loss: 1.3831... Val Loss: 1.3895\n",
      "Epoch: 12/20... Step: 1550... Loss: 1.3885... Val Loss: 1.3881\n",
      "Epoch: 12/20... Step: 1560... Loss: 1.3957... Val Loss: 1.3819\n",
      "Epoch: 12/20... Step: 1570... Loss: 1.3436... Val Loss: 1.3801\n",
      "Epoch: 12/20... Step: 1580... Loss: 1.3282... Val Loss: 1.3808\n",
      "Epoch: 12/20... Step: 1590... Loss: 1.3230... Val Loss: 1.3811\n",
      "Epoch: 12/20... Step: 1600... Loss: 1.3480... Val Loss: 1.3811\n",
      "Epoch: 12/20... Step: 1610... Loss: 1.3479... Val Loss: 1.3763\n",
      "Epoch: 12/20... Step: 1620... Loss: 1.3419... Val Loss: 1.3765\n",
      "Epoch: 12/20... Step: 1630... Loss: 1.3634... Val Loss: 1.3706\n",
      "Epoch: 12/20... Step: 1640... Loss: 1.3391... Val Loss: 1.3739\n",
      "Epoch: 12/20... Step: 1650... Loss: 1.3143... Val Loss: 1.3737\n",
      "Epoch: 12/20... Step: 1660... Loss: 1.3783... Val Loss: 1.3690\n",
      "Epoch: 13/20... Step: 1670... Loss: 1.3461... Val Loss: 1.3722\n",
      "Epoch: 13/20... Step: 1680... Loss: 1.3493... Val Loss: 1.3683\n",
      "Epoch: 13/20... Step: 1690... Loss: 1.3301... Val Loss: 1.3675\n",
      "Epoch: 13/20... Step: 1700... Loss: 1.3341... Val Loss: 1.3655\n",
      "Epoch: 13/20... Step: 1710... Loss: 1.3129... Val Loss: 1.3642\n",
      "Epoch: 13/20... Step: 1720... Loss: 1.3231... Val Loss: 1.3628\n",
      "Epoch: 13/20... Step: 1730... Loss: 1.3608... Val Loss: 1.3624\n",
      "Epoch: 13/20... Step: 1740... Loss: 1.3232... Val Loss: 1.3609\n",
      "Epoch: 13/20... Step: 1750... Loss: 1.2956... Val Loss: 1.3615\n",
      "Epoch: 13/20... Step: 1760... Loss: 1.3229... Val Loss: 1.3565\n",
      "Epoch: 13/20... Step: 1770... Loss: 1.3507... Val Loss: 1.3553\n",
      "Epoch: 13/20... Step: 1780... Loss: 1.3116... Val Loss: 1.3572\n",
      "Epoch: 13/20... Step: 1790... Loss: 1.3043... Val Loss: 1.3575\n",
      "Epoch: 13/20... Step: 1800... Loss: 1.3279... Val Loss: 1.3518\n",
      "Epoch: 14/20... Step: 1810... Loss: 1.3371... Val Loss: 1.3566\n",
      "Epoch: 14/20... Step: 1820... Loss: 1.3113... Val Loss: 1.3535\n",
      "Epoch: 14/20... Step: 1830... Loss: 1.3415... Val Loss: 1.3509\n",
      "Epoch: 14/20... Step: 1840... Loss: 1.2829... Val Loss: 1.3509\n",
      "Epoch: 14/20... Step: 1850... Loss: 1.2679... Val Loss: 1.3481\n",
      "Epoch: 14/20... Step: 1860... Loss: 1.3209... Val Loss: 1.3512\n",
      "Epoch: 14/20... Step: 1870... Loss: 1.3227... Val Loss: 1.3477\n",
      "Epoch: 14/20... Step: 1880... Loss: 1.3179... Val Loss: 1.3482\n",
      "Epoch: 14/20... Step: 1890... Loss: 1.3398... Val Loss: 1.3490\n",
      "Epoch: 14/20... Step: 1900... Loss: 1.3150... Val Loss: 1.3445\n",
      "Epoch: 14/20... Step: 1910... Loss: 1.3058... Val Loss: 1.3454\n",
      "Epoch: 14/20... Step: 1920... Loss: 1.3056... Val Loss: 1.3445\n",
      "Epoch: 14/20... Step: 1930... Loss: 1.2782... Val Loss: 1.3442\n",
      "Epoch: 14/20... Step: 1940... Loss: 1.3343... Val Loss: 1.3437\n",
      "Epoch: 15/20... Step: 1950... Loss: 1.3006... Val Loss: 1.3437\n",
      "Epoch: 15/20... Step: 1960... Loss: 1.3013... Val Loss: 1.3387\n",
      "Epoch: 15/20... Step: 1970... Loss: 1.3030... Val Loss: 1.3378\n",
      "Epoch: 15/20... Step: 1980... Loss: 1.2812... Val Loss: 1.3394\n",
      "Epoch: 15/20... Step: 1990... Loss: 1.2949... Val Loss: 1.3380\n",
      "Epoch: 15/20... Step: 2000... Loss: 1.2682... Val Loss: 1.3387\n",
      "Epoch: 15/20... Step: 2010... Loss: 1.2875... Val Loss: 1.3347\n",
      "Epoch: 15/20... Step: 2020... Loss: 1.3147... Val Loss: 1.3340\n",
      "Epoch: 15/20... Step: 2030... Loss: 1.2824... Val Loss: 1.3322\n",
      "Epoch: 15/20... Step: 2040... Loss: 1.2993... Val Loss: 1.3303\n",
      "Epoch: 15/20... Step: 2050... Loss: 1.2819... Val Loss: 1.3311\n",
      "Epoch: 15/20... Step: 2060... Loss: 1.2892... Val Loss: 1.3297\n",
      "Epoch: 15/20... Step: 2070... Loss: 1.3021... Val Loss: 1.3290\n",
      "Epoch: 15/20... Step: 2080... Loss: 1.2921... Val Loss: 1.3299\n",
      "Epoch: 16/20... Step: 2090... Loss: 1.2987... Val Loss: 1.3320\n",
      "Epoch: 16/20... Step: 2100... Loss: 1.2726... Val Loss: 1.3276\n",
      "Epoch: 16/20... Step: 2110... Loss: 1.2639... Val Loss: 1.3226\n",
      "Epoch: 16/20... Step: 2120... Loss: 1.2962... Val Loss: 1.3260\n",
      "Epoch: 16/20... Step: 2130... Loss: 1.2594... Val Loss: 1.3270\n",
      "Epoch: 16/20... Step: 2140... Loss: 1.2734... Val Loss: 1.3250\n",
      "Epoch: 16/20... Step: 2150... Loss: 1.3018... Val Loss: 1.3228\n",
      "Epoch: 16/20... Step: 2160... Loss: 1.2779... Val Loss: 1.3232\n",
      "Epoch: 16/20... Step: 2170... Loss: 1.2743... Val Loss: 1.3243\n",
      "Epoch: 16/20... Step: 2180... Loss: 1.2661... Val Loss: 1.3185\n",
      "Epoch: 16/20... Step: 2190... Loss: 1.2843... Val Loss: 1.3231\n",
      "Epoch: 16/20... Step: 2200... Loss: 1.2658... Val Loss: 1.3183\n",
      "Epoch: 16/20... Step: 2210... Loss: 1.2210... Val Loss: 1.3178\n",
      "Epoch: 16/20... Step: 2220... Loss: 1.2823... Val Loss: 1.3178\n",
      "Epoch: 17/20... Step: 2230... Loss: 1.2571... Val Loss: 1.3190\n",
      "Epoch: 17/20... Step: 2240... Loss: 1.2564... Val Loss: 1.3114\n",
      "Epoch: 17/20... Step: 2250... Loss: 1.2497... Val Loss: 1.3123\n",
      "Epoch: 17/20... Step: 2260... Loss: 1.2534... Val Loss: 1.3089\n",
      "Epoch: 17/20... Step: 2270... Loss: 1.2602... Val Loss: 1.3087\n",
      "Epoch: 17/20... Step: 2280... Loss: 1.2631... Val Loss: 1.3066\n",
      "Epoch: 17/20... Step: 2290... Loss: 1.2699... Val Loss: 1.3124\n",
      "Epoch: 17/20... Step: 2300... Loss: 1.2314... Val Loss: 1.3067\n",
      "Epoch: 17/20... Step: 2310... Loss: 1.2492... Val Loss: 1.3029\n",
      "Epoch: 17/20... Step: 2320... Loss: 1.2425... Val Loss: 1.3026\n",
      "Epoch: 17/20... Step: 2330... Loss: 1.2449... Val Loss: 1.3049\n",
      "Epoch: 17/20... Step: 2340... Loss: 1.2628... Val Loss: 1.3052\n",
      "Epoch: 17/20... Step: 2350... Loss: 1.2605... Val Loss: 1.2990\n",
      "Epoch: 17/20... Step: 2360... Loss: 1.2652... Val Loss: 1.2983\n",
      "Epoch: 18/20... Step: 2370... Loss: 1.2411... Val Loss: 1.3087\n",
      "Epoch: 18/20... Step: 2380... Loss: 1.2425... Val Loss: 1.2955\n",
      "Epoch: 18/20... Step: 2390... Loss: 1.2384... Val Loss: 1.3024\n",
      "Epoch: 18/20... Step: 2400... Loss: 1.2640... Val Loss: 1.2981\n",
      "Epoch: 18/20... Step: 2410... Loss: 1.2584... Val Loss: 1.2996\n",
      "Epoch: 18/20... Step: 2420... Loss: 1.2385... Val Loss: 1.2961\n",
      "Epoch: 18/20... Step: 2430... Loss: 1.2552... Val Loss: 1.2948\n",
      "Epoch: 18/20... Step: 2440... Loss: 1.2409... Val Loss: 1.2936\n",
      "Epoch: 18/20... Step: 2450... Loss: 1.2289... Val Loss: 1.2939\n",
      "Epoch: 18/20... Step: 2460... Loss: 1.2444... Val Loss: 1.2948\n",
      "Epoch: 18/20... Step: 2470... Loss: 1.2384... Val Loss: 1.2932\n",
      "Epoch: 18/20... Step: 2480... Loss: 1.2222... Val Loss: 1.2924\n",
      "Epoch: 18/20... Step: 2490... Loss: 1.2218... Val Loss: 1.2908\n",
      "Epoch: 18/20... Step: 2500... Loss: 1.2213... Val Loss: 1.2931\n",
      "Epoch: 19/20... Step: 2510... Loss: 1.2219... Val Loss: 1.2904\n",
      "Epoch: 19/20... Step: 2520... Loss: 1.2338... Val Loss: 1.2874\n",
      "Epoch: 19/20... Step: 2530... Loss: 1.2457... Val Loss: 1.2903\n",
      "Epoch: 19/20... Step: 2540... Loss: 1.2632... Val Loss: 1.2881\n",
      "Epoch: 19/20... Step: 2550... Loss: 1.2220... Val Loss: 1.2907\n",
      "Epoch: 19/20... Step: 2560... Loss: 1.2247... Val Loss: 1.2858\n",
      "Epoch: 19/20... Step: 2570... Loss: 1.2159... Val Loss: 1.2891\n",
      "Epoch: 19/20... Step: 2580... Loss: 1.2515... Val Loss: 1.2920\n",
      "Epoch: 19/20... Step: 2590... Loss: 1.2119... Val Loss: 1.2906\n",
      "Epoch: 19/20... Step: 2600... Loss: 1.2115... Val Loss: 1.2887\n",
      "Epoch: 19/20... Step: 2610... Loss: 1.2200... Val Loss: 1.2819\n",
      "Epoch: 19/20... Step: 2620... Loss: 1.2055... Val Loss: 1.2823\n",
      "Epoch: 19/20... Step: 2630... Loss: 1.2075... Val Loss: 1.2856\n",
      "Epoch: 19/20... Step: 2640... Loss: 1.2273... Val Loss: 1.2870\n",
      "Epoch: 20/20... Step: 2650... Loss: 1.2313... Val Loss: 1.2859\n",
      "Epoch: 20/20... Step: 2660... Loss: 1.2262... Val Loss: 1.2827\n",
      "Epoch: 20/20... Step: 2670... Loss: 1.2364... Val Loss: 1.2838\n",
      "Epoch: 20/20... Step: 2680... Loss: 1.2167... Val Loss: 1.2813\n",
      "Epoch: 20/20... Step: 2690... Loss: 1.2204... Val Loss: 1.2822\n",
      "Epoch: 20/20... Step: 2700... Loss: 1.2203... Val Loss: 1.2817\n",
      "Epoch: 20/20... Step: 2710... Loss: 1.1918... Val Loss: 1.2797\n",
      "Epoch: 20/20... Step: 2720... Loss: 1.1941... Val Loss: 1.2855\n",
      "Epoch: 20/20... Step: 2730... Loss: 1.1894... Val Loss: 1.2862\n",
      "Epoch: 20/20... Step: 2740... Loss: 1.1866... Val Loss: 1.2891\n",
      "Epoch: 20/20... Step: 2750... Loss: 1.1979... Val Loss: 1.2817\n",
      "Epoch: 20/20... Step: 2760... Loss: 1.1983... Val Loss: 1.2789\n",
      "Epoch: 20/20... Step: 2770... Loss: 1.2259... Val Loss: 1.2745\n",
      "Epoch: 20/20... Step: 2780... Loss: 1.2514... Val Loss: 1.2760\n"
     ]
    }
   ],
   "source": [
    "batch_size = 128\n",
    "seq_length = 100  # large value gives our model a great deal of context to learn from\n",
    "n_epochs = 20 # start small if you are just testing initial behavior\n",
    "\n",
    "# train the model\n",
    "train(net, encoded, epochs=n_epochs, batch_size=batch_size, seq_length=seq_length, lr=0.001, print_every=10)"
   ]
  },
  {
   "cell_type": "markdown",
   "metadata": {},
   "source": [
    "## Getting the best model\n",
    "\n",
    "To set your hyperparameters to get the best performance, you'll want to watch the training and validation losses. If your training loss is much lower than the validation loss, you're overfitting. Increase regularization (more dropout) or use a smaller network. If the training and validation losses are close, you're underfitting so you can increase the size of the network."
   ]
  },
  {
   "cell_type": "markdown",
   "metadata": {},
   "source": [
    "## Hyperparameters\n",
    "\n",
    "Here are the hyperparameters for the network.\n",
    "\n",
    "In defining the model:\n",
    "* `n_hidden` - The number of units in the hidden layers.\n",
    "* `n_layers` - Number of hidden LSTM layers to use.\n",
    "\n",
    "We assume that dropout probability and learning rate will be kept at the default, in this example.\n",
    "\n",
    "And in training:\n",
    "* `batch_size` - Number of sequences running through the network in one pass.\n",
    "* `seq_length` - Number of characters in the sequence the network is trained on. Larger is better typically, the network will learn more long range dependencies. But it takes longer to train. 100 is typically a good number here.\n",
    "* `lr` - Learning rate for training\n",
    "\n",
    "Here's some good advice from Andrej Karpathy on training the network. I'm going to copy it in here for your benefit, but also link to [where it originally came from](https://github.com/karpathy/char-rnn#tips-and-tricks).\n",
    "\n",
    "> ## Tips and Tricks\n",
    "\n",
    ">### Monitoring Validation Loss vs. Training Loss\n",
    ">If you're somewhat new to Machine Learning or Neural Networks it can take a bit of expertise to get good models. The most important quantity to keep track of is the difference between your training loss (printed during training) and the validation loss (printed once in a while when the RNN is run on the validation data (by default every 1000 iterations)). In particular:\n",
    "\n",
    "> - If your training loss is much lower than validation loss then this means the network might be **overfitting**. Solutions to this are to decrease your network size, or to increase dropout. For example you could try dropout of 0.5 and so on.\n",
    "> - If your training/validation loss are about equal then your model is **underfitting**. Increase the size of your model (either number of layers or the raw number of neurons per layer)\n",
    "\n",
    "> ### Approximate number of parameters\n",
    "\n",
    "> The two most important parameters that control the model are `n_hidden` and `n_layers`. I would advise that you always use `n_layers` of either 2/3. The `n_hidden` can be adjusted based on how much data you have. The two important quantities to keep track of here are:\n",
    "\n",
    "> - The number of parameters in your model. This is printed when you start training.\n",
    "> - The size of your dataset. 1MB file is approximately 1 million characters.\n",
    "\n",
    ">These two should be about the same order of magnitude. It's a little tricky to tell. Here are some examples:\n",
    "\n",
    "> - I have a 100MB dataset and I'm using the default parameter settings (which currently print 150K parameters). My data size is significantly larger (100 mil >> 0.15 mil), so I expect to heavily underfit. I am thinking I can comfortably afford to make `n_hidden` larger.\n",
    "> - I have a 10MB dataset and running a 10 million parameter model. I'm slightly nervous and I'm carefully monitoring my validation loss. If it's larger than my training loss then I may want to try to increase dropout a bit and see if that helps the validation loss.\n",
    "\n",
    "> ### Best models strategy\n",
    "\n",
    ">The winning strategy to obtaining very good models (if you have the compute time) is to always err on making the network larger (as large as you're willing to wait for it to compute) and then try different dropout values (between 0,1). Whatever model has the best validation performance (the loss, written in the checkpoint filename, low is good) is the one you should use in the end.\n",
    "\n",
    ">It is very common in deep learning to run many different models with many different hyperparameter settings, and in the end take whatever checkpoint gave the best validation performance.\n",
    "\n",
    ">By the way, the size of your training and validation splits are also parameters. Make sure you have a decent amount of data in your validation set or otherwise the validation performance will be noisy and not very informative."
   ]
  },
  {
   "cell_type": "markdown",
   "metadata": {},
   "source": [
    "## Checkpoint\n",
    "\n",
    "After training, we'll save the model so we can load it again later if we need too. Here I'm saving the parameters needed to create the same architecture, the hidden layer hyperparameters and the text characters."
   ]
  },
  {
   "cell_type": "code",
   "execution_count": 27,
   "metadata": {
    "collapsed": true
   },
   "outputs": [],
   "source": [
    "# change the name, for saving multiple files\n",
    "model_name = 'rnn_x_epoch.net'\n",
    "\n",
    "checkpoint = {'n_hidden': net.n_hidden,\n",
    "              'n_layers': net.n_layers,\n",
    "              'state_dict': net.state_dict(),\n",
    "              'tokens': net.chars}\n",
    "\n",
    "with open(model_name, 'wb') as f:\n",
    "    torch.save(checkpoint, f)"
   ]
  },
  {
   "cell_type": "markdown",
   "metadata": {},
   "source": [
    "---\n",
    "## Making Predictions\n",
    "\n",
    "Now that the model is trained, we'll want to sample from it and make predictions about next characters! To sample, we pass in a character and have the network predict the next character. Then we take that character, pass it back in, and get another predicted character. Just keep doing this and you'll generate a bunch of text!\n",
    "\n",
    "### A note on the `predict`  function\n",
    "\n",
    "The output of our RNN is from a fully-connected layer and it outputs a **distribution of next-character scores**.\n",
    "\n",
    "> To actually get the next character, we apply a softmax function, which gives us a *probability* distribution that we can then sample to predict the next character.\n",
    "\n",
    "### Top K sampling\n",
    "\n",
    "Our predictions come from a categorical probability distribution over all the possible characters. We can make the sample text and make it more reasonable to handle (with less variables) by only considering some $K$ most probable characters. This will prevent the network from giving us completely absurd characters while allowing it to introduce some noise and randomness into the sampled text. Read more about [topk, here](https://pytorch.org/docs/stable/torch.html#torch.topk).\n"
   ]
  },
  {
   "cell_type": "code",
   "execution_count": 28,
   "metadata": {
    "collapsed": true
   },
   "outputs": [],
   "source": [
    "def predict(net, char, h=None, top_k=None):\n",
    "        ''' Given a character, predict the next character.\n",
    "            Returns the predicted character and the hidden state.\n",
    "        '''\n",
    "        \n",
    "        # tensor inputs\n",
    "        x = np.array([[net.char2int[char]]])\n",
    "        x = one_hot_encode(x, len(net.chars))\n",
    "        inputs = torch.from_numpy(x)\n",
    "        \n",
    "        if(train_on_gpu):\n",
    "            inputs = inputs.cuda()\n",
    "        \n",
    "        # detach hidden state from history\n",
    "        h = tuple([each.data for each in h])\n",
    "        # get the output of the model\n",
    "        out, h = net(inputs, h)\n",
    "\n",
    "        # get the character probabilities\n",
    "        p = F.softmax(out, dim=1).data\n",
    "        if(train_on_gpu):\n",
    "            p = p.cpu() # move to cpu\n",
    "        \n",
    "        # get top characters\n",
    "        if top_k is None:\n",
    "            top_ch = np.arange(len(net.chars))\n",
    "        else:\n",
    "            p, top_ch = p.topk(top_k)\n",
    "            top_ch = top_ch.numpy().squeeze()\n",
    "        \n",
    "        # select the likely next character with some element of randomness\n",
    "        p = p.numpy().squeeze()\n",
    "        char = np.random.choice(top_ch, p=p/p.sum())\n",
    "        \n",
    "        # return the encoded value of the predicted char and the hidden state\n",
    "        return net.int2char[char], h"
   ]
  },
  {
   "cell_type": "markdown",
   "metadata": {},
   "source": [
    "### Priming and generating text \n",
    "\n",
    "Typically you'll want to prime the network so you can build up a hidden state. Otherwise the network will start out generating characters at random. In general the first bunch of characters will be a little rough since it hasn't built up a long history of characters to predict from."
   ]
  },
  {
   "cell_type": "code",
   "execution_count": 29,
   "metadata": {
    "collapsed": true
   },
   "outputs": [],
   "source": [
    "def sample(net, size, prime='The', top_k=None):\n",
    "        \n",
    "    if(train_on_gpu):\n",
    "        net.cuda()\n",
    "    else:\n",
    "        net.cpu()\n",
    "    \n",
    "    net.eval() # eval mode\n",
    "    \n",
    "    # First off, run through the prime characters\n",
    "    chars = [ch for ch in prime]\n",
    "    h = net.init_hidden(1)\n",
    "    for ch in prime:\n",
    "        char, h = predict(net, ch, h, top_k=top_k)\n",
    "\n",
    "    chars.append(char)\n",
    "    \n",
    "    # Now pass in the previous character and get a new one\n",
    "    for ii in range(size):\n",
    "        char, h = predict(net, chars[-1], h, top_k=top_k)\n",
    "        chars.append(char)\n",
    "\n",
    "    return ''.join(chars)"
   ]
  },
  {
   "cell_type": "code",
   "execution_count": 30,
   "metadata": {
    "collapsed": true
   },
   "outputs": [
    {
     "name": "stdout",
     "output_type": "stream",
     "text": [
      "Anna\n",
      "had been drinking at through her horses and his face,\n",
      "and there was a princess with answering his friendliness that she was not a friend\n",
      "of having since this was happy to him, took it at the day, as he\n",
      "would be to say to a stand of corchanter to be despraided, but\n",
      "his eyes would never show her into the room, the dress, steepled\n",
      "away, and was at the same, and the contrary, were took. The princess was seening to\n",
      "the maring thoughts he could hold official time. But, shrouk as he was\n",
      "coming into the crappation to the bright cale, with which he was\n",
      "condition and having happering, then with the mearing time that they he\n",
      "sounded to the meeding. A servant should natural time herself\n",
      "another the peace. This interriew the money to spoke her. The sense of a minute\n",
      "then the simplicity of the steps, and so that she saw that seeming the\n",
      "crubses were simply to be so much before, and that the point\n",
      "of a signe was not sitting in the picture of the pission, at the\n",
      "same. Talking about her. He was not try\n"
     ]
    }
   ],
   "source": [
    "print(sample(net, 1000, prime='Anna', top_k=5))"
   ]
  },
  {
   "cell_type": "markdown",
   "metadata": {},
   "source": [
    "## Loading a checkpoint"
   ]
  },
  {
   "cell_type": "code",
   "execution_count": 31,
   "metadata": {
    "collapsed": true
   },
   "outputs": [
    {
     "data": {
      "text/plain": [
       "<All keys matched successfully>"
      ]
     },
     "execution_count": 31,
     "metadata": {},
     "output_type": "execute_result"
    }
   ],
   "source": [
    "# Here we have loaded in a model that trained over 20 epochs `rnn_20_epoch.net`\n",
    "with open('rnn_x_epoch.net', 'rb') as f:\n",
    "    checkpoint = torch.load(f)\n",
    "    \n",
    "loaded = CharRNN(checkpoint['tokens'], n_hidden=checkpoint['n_hidden'], n_layers=checkpoint['n_layers'])\n",
    "loaded.load_state_dict(checkpoint['state_dict'])"
   ]
  },
  {
   "cell_type": "code",
   "execution_count": 32,
   "metadata": {
    "collapsed": true
   },
   "outputs": [
    {
     "name": "stdout",
     "output_type": "stream",
     "text": [
      "And Levin said\n",
      "he, that he could not leave them on his hands.\n",
      "\n",
      "\"I'm to say that?\"\n",
      "\n",
      "Sergey Ivanovitch was thinking of her to the ball in serious faces; he had\n",
      "been all the son to trief that it was a man in these friends and his\n",
      "country, he was still there at the princess. The priest stood had said\n",
      "that there was no has sorried, which wheated her a long oresonisical\n",
      "finesciest he will be did to speak, that she had so much always food of that in sudden the\n",
      "chair. He sat in the doorway in the poor time, hole of her position of\n",
      "heart to her and she would say to himself to have the stoop of the\n",
      "rug. There is to him and he would be silent. And he was the same\n",
      "strenging story.\n",
      "\n",
      "Anna was such a sight of the second simpers to the sound of the\n",
      "security. He stopped into bad was from some station of his brother's creatures,\n",
      "which she had the chief same at that the servants of something stating\n",
      "in again of his his own position was to suddenly any conversation. The princess\n",
      "had taken any more the past of the sound of his conditions of a\n",
      "stall. At the class of the mother had can tried by him. She was\n",
      "a state of subject, and she could have breaked off, and she stood to\n",
      "anything and see her his well began wearing her than their conversation that\n",
      "were\n",
      "comforting a moment and he had never seen him, she could not see him, she wrutched them\n",
      "only all the capally, and she was talking of the\n",
      "sick, head hands a struck that she saw what were impossible for him\n",
      "as though she could not be that a man who was charring the strong and some\n",
      "part and so at the second man which had seen her seeficilation. He felt that he had\n",
      "to get the first place, and shaking one was, and went in to her that he down\n",
      "the big offace of the passion of the more of the country, he came there that\n",
      "the case, with something tithles, and almost thirding sight\n",
      "the pattlents to stand, smuling a little and carrying out\n",
      "often all the place wher they said how she chunged to her\n",
      "than he seemed so hightly as had been come in his brother. He felt t\n"
     ]
    }
   ],
   "source": [
    "# Sample using a loaded model\n",
    "print(sample(loaded, 2000, top_k=5, prime=\"And Levin said\"))"
   ]
  },
  {
   "cell_type": "code",
   "execution_count": null,
   "metadata": {
    "collapsed": true
   },
   "outputs": [],
   "source": []
  }
 ],
 "metadata": {
  "kernelspec": {
   "display_name": "Python 3",
   "language": "python",
   "name": "python3"
  },
  "language_info": {
   "codemirror_mode": {
    "name": "ipython",
    "version": 3
   },
   "file_extension": ".py",
   "mimetype": "text/x-python",
   "name": "python",
   "nbconvert_exporter": "python",
   "pygments_lexer": "ipython3",
   "version": "3.7.1"
  }
 },
 "nbformat": 4,
 "nbformat_minor": 2
}
